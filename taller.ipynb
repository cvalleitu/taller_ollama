{
 "cells": [
  {
   "cell_type": "code",
   "execution_count": 1,
   "id": "3072a303",
   "metadata": {},
   "outputs": [],
   "source": [
    "import requests\n",
    "from bs4 import BeautifulSoup\n",
    "import ollama\n",
    "import json"
   ]
  },
  {
   "cell_type": "code",
   "execution_count": 2,
   "id": "f6e446dc",
   "metadata": {},
   "outputs": [],
   "source": [
    "url = \"https://www.nationalgeographic.com.es/ciencia/porfiria-enfermedad-metabolica-dio-lugar-vampiros_26542\""
   ]
  },
  {
   "cell_type": "code",
   "execution_count": 3,
   "id": "adcbd3bf",
   "metadata": {},
   "outputs": [],
   "source": [
    "headers = {'User-Agent': 'Mozilla/5.0 (Windows NT 10.0; Win64; x64) AppleWebKit/537.36 (KHTML, like Gecko) Chrome/91.0.4472.124 Safari/537.36'}\n",
    "response = requests.get(url, headers=headers)\n",
    "    \n",
    "\n",
    "soup = BeautifulSoup(response.content, 'html.parser')"
   ]
  },
  {
   "cell_type": "code",
   "execution_count": 4,
   "id": "9c70cf63",
   "metadata": {},
   "outputs": [],
   "source": [
    "title = soup.find(\"h1\", class_=\"article-title\").text.strip()"
   ]
  },
  {
   "cell_type": "code",
   "execution_count": 5,
   "id": "8f95c3a1",
   "metadata": {},
   "outputs": [
    {
     "name": "stdout",
     "output_type": "stream",
     "text": [
      "Porfiria, la enfermedad metabólica que dio lugar a los vampiros\n"
     ]
    }
   ],
   "source": [
    "print(title)"
   ]
  },
  {
   "cell_type": "code",
   "execution_count": 6,
   "id": "2ec436a5",
   "metadata": {},
   "outputs": [],
   "source": [
    "paragraphs = soup.find_all('div', class_='article-text txt')"
   ]
  },
  {
   "cell_type": "code",
   "execution_count": 13,
   "id": "432f287c",
   "metadata": {},
   "outputs": [
    {
     "name": "stdout",
     "output_type": "stream",
     "text": [
      "A lo largo de la historia de la humanidad, los vampiros han sido objeto de fascinación, de miedo y mitos. Hoy en día, la leyenda sobre la crueldad del Conde Drácula, así como otras criaturas nocturnas han hecho mella en el imaginario popular, aunque sus relatos se han ido suavizando desde finales del siglo XIX hasta la fecha. Con el paso de los años, las habilidades de los vampiros han ido variando, pero por lo general siempre han sido criaturas esquivas, a los que no les puede dar el sol y a los que se le combate con plata, ajos, y, para darles la estocada final, se necesita una estaca de madera.\n",
      "Si me invitan a pasar a través de sus pantallas, podrán leer la historia de cómo las leyendas se apoyan en fenómenos otrora inexplicables, pero que en la actualidad su halo de misticismo ha ido desvaneciéndose gracias a la ciencia. En el caso de los vampiros, estos seres podrían haber surgido a partir de enfermedades metabólicas raras llamadas porfirias, cuyos síntomas se asemejan vagamente a las características clásicas que se asocian a estos seres de la noche.\n",
      "Es importante tener en cuenta que la porfiria no es una única enfermedad, sino que se trata de todo un conjunto de enfermedades que afectan a la producción de hemo, un grupo químico esencial para la vida. El grupo hemo es necesario, entre otras cosas, para la creación de la hemoglobina de la sangre o el transporte de sustancias de deshecho hasta la orina. En la sangre, concretamente, los átomos de hierro del grupo hemo se encargan de unirse de forma reversible al oxígeno para que este sea transportado hasta donde sea necesario. Por tanto, es clave para llevar a cabo la respiración celular.\n",
      "Este grupo está rodeado por unas proteínas conocidas como porfirinas, que se encargan de mantenerlo en su lugar y que pueda hacer su función. Ahora bien, debido a la variabilidad genética humana, puede ocurrir un defecto en la producción de estas porfirinas, lo que desencadena una serie de problemas. Al ser tan esenciales para tantos procesos, la sintomatología de las porfirias es muy compleja y afectan a distintas partes del organismo, desde la piel hasta el estómago.\n",
      "En el caso concreto de la protoporfiria eritropoyética, que es una de las más comunes en la rareza, los síntomas se manifiestan de forma temprana. Los pacientes que la sufren son muy fotosensibles desde la niñez debido a que se acumula en su piel un compuesto precursor de la porfirina denominado proporfirina IX. Cuando estas personas se les expone al sol directo durante pocos minutos, sus pieles empiezan a escocer, y tras esto aparecen lesiones que pueden durar varios días.\n",
      "En el caso de la porfiria eritropoyética heredada, también conocida como porfiria de Günther, se conocen solo alrededor de 200 casos en toda la literatura médica. Al igual que en la anterior, los pacientes de esta porfiria también son fotosensibles, y pueden llegar a sufrir mutilaciones de las orejas y la nariz, dando lugar al aspecto vampiresco propio de las películas. Pero no todo se queda ahí, la realidad de la enfermedad es mucho más dura y puede provocar la caída de los dedos, lo que afecta enormemente a la calidad de vida de los pacientes que la sufren.\n",
      "Además de la piel, las porfirinas también se acumulan en los dientes, dando lugar a una condición conocida como eritrodoncia, una coloración del esmalte en tonos rojizos o marrones. Se cree que la combinación de dientes que parecen ensangrentados y más largos de lo habitual debido a la retracción de las encías provocada por la falta de oxígeno de los tejidos ha podido alimentar las leyendas de que chupaban sangre para alimentarse.\n",
      "Finalmente, su aversión al ajo también podría tener razón científica, y es que en el ajo existe un compuesto denominado dialil-sulfona (DASO₂). Este compuesto, es capaz de modificar la protoporfirina IX e impedir que siga su camino hacia la producción de la poca porfirina funcional que crean las personas que sufren esta enfermedad. Al acumular todavía más porfirinas, un caso de la enfermedad que se estuviese manifestando de forma leve podría agravarse. Es decir, el ajo podía “mostrar la verdadera naturaleza del vampiro”.\n",
      "El vampiro más conocido de todos los tiempos es el Conde Drácula, que es una caricatura del soberano rumano conocido como Vlad II de Valaquia o Vlad el Empalador. En la realidad, este gobernante está considerado como uno de los mejores gobernantes de Rumanía, ya que logró impedir la expansión del imperio otomano, aunque también pasó a la historia por la crueldad de sus castigos. Sin embargo, también se cree que muchos de los actos descritos realmente no ocurrieron, y algunos historiadores justifican aquellos de los que sí se tiene certeza debido a la gran incertidumbre y lo convulso de los tiempos en los que vivió.\n",
      "La unión entre el vampiro y el gobernante es obra de Bram Stoker, el novelista irlandés que publicó en 1897 la novela Drácula, que se popularizó en todo el mundo. Ahora bien, tanto escritores y críticos coetáneos como los estudiosos actuales de su obra coinciden en que el conocimiento de Stoker sobre aquella época era bastante limitado. Aún así, se las ingenió para juntar fragmentos de leyendas con partes reales para crear aquella fantasía terrorífica que nos ha acompañado hasta nuestros días. Que se tenga constancia, Vlad II no padeció porfiria, eso sería una parte que tomó de las leyendas transilvanas.\n",
      "En la actualidad, la ciencia ha avanzado en el diagnóstico y tratamiento de la porfiria, aunque muchos pacientes creen que no lo suficiente. Hace unos años se tardaba una media de 13 años y medio en diagnosticarla, pero con los métodos actuales ahora se ha reducido el tiempo a unos 9. Y es que los vampiros no existen, pero las personas con porfiria siguen enfrentándose a desafíos reales y una lucha constante para visibilizar la enfermedad. Un claro ejemplo de esta lucha es el de Fide Mirón, que padece desde niña la porfiria de Günther y dedica su vida a divulgar acerca de estas enfermedades que tanto daño y rechazo han causado a lo largo de la historia.\n"
     ]
    }
   ],
   "source": [
    "text = \"\"\n",
    "for i in paragraphs[0].find_all(\"p\"):\n",
    "    if not i.attrs:\n",
    "        print(i.text)\n",
    "        text += i.text + \"\\n\""
   ]
  },
  {
   "cell_type": "code",
   "execution_count": 14,
   "id": "7460c678",
   "metadata": {},
   "outputs": [],
   "source": [
    "prompt = f\"\"\"\n",
    "    Basado en el siguiente artículo con título \"{title}\", realiza dos tareas y devuelve el resultado en formato JSON:\n",
    "    Formato de salida esperado:\n",
    "    {{\"resumen\": \"...\",\"etiquetas\": [\"...\", \"...\", \"...\"]}}\n",
    "    1. Genera un \"resumen\"  conciso en español que no exceda los 200 caracteres.\n",
    "    2. Genera \"etiquetas\", una lista de exactamente tres keywords en español.\n",
    "\n",
    "    Cuerpo del artículo:\n",
    "    {text}\n",
    "    \"\"\"\n",
    "response = ollama.generate(\n",
    "            model='llama3.2:latest',\n",
    "            prompt=prompt,\n",
    "            format='json',\n",
    "            stream=False\n",
    "        )"
   ]
  },
  {
   "cell_type": "code",
   "execution_count": 15,
   "id": "8aba0877",
   "metadata": {},
   "outputs": [],
   "source": [
    "content = response['response']"
   ]
  },
  {
   "cell_type": "code",
   "execution_count": 16,
   "id": "0e0feea2",
   "metadata": {},
   "outputs": [],
   "source": [
    "data = json.loads(content)\n",
    "summary = data.get(\"resumen\", \"No se pudo generar el resumen.\")\n",
    "tags = data.get(\"etiquetas\", [])"
   ]
  },
  {
   "cell_type": "code",
   "execution_count": 17,
   "id": "f7a5a5ae",
   "metadata": {},
   "outputs": [
    {
     "name": "stdout",
     "output_type": "stream",
     "text": [
      "{'resumen': 'La porfiria es una enfermedad metabólica que puede causar síntomas similares a los de los vampiros, como sensibilidad al sol y lesiones en la piel. La ciencia ha avanzado en su diagnóstico y tratamiento, pero muchos pacientes siguen enfrentando desafíos reales.', 'etiquetas': ['Porfiria', 'Enfermedad metabólica', 'Vampiros']}\n"
     ]
    }
   ],
   "source": [
    "print(data)"
   ]
  },
  {
   "cell_type": "code",
   "execution_count": 18,
   "id": "2d44669a",
   "metadata": {},
   "outputs": [
    {
     "name": "stdout",
     "output_type": "stream",
     "text": [
      "La porfiria es una enfermedad metabólica que puede causar síntomas similares a los de los vampiros, como sensibilidad al sol y lesiones en la piel. La ciencia ha avanzado en su diagnóstico y tratamiento, pero muchos pacientes siguen enfrentando desafíos reales.\n"
     ]
    }
   ],
   "source": [
    "print(summary)"
   ]
  },
  {
   "cell_type": "code",
   "execution_count": 19,
   "id": "bc6a3cf9",
   "metadata": {},
   "outputs": [
    {
     "name": "stdout",
     "output_type": "stream",
     "text": [
      "['Porfiria', 'Enfermedad metabólica', 'Vampiros']\n"
     ]
    }
   ],
   "source": [
    "print(tags)"
   ]
  },
  {
   "cell_type": "code",
   "execution_count": null,
   "id": "a71dbb40",
   "metadata": {},
   "outputs": [],
   "source": []
  },
  {
   "cell_type": "code",
   "execution_count": null,
   "id": "6779a076",
   "metadata": {},
   "outputs": [],
   "source": []
  },
  {
   "cell_type": "code",
   "execution_count": null,
   "id": "b309cdca",
   "metadata": {},
   "outputs": [],
   "source": []
  },
  {
   "cell_type": "code",
   "execution_count": null,
   "id": "e3c0909d",
   "metadata": {},
   "outputs": [],
   "source": []
  },
  {
   "cell_type": "code",
   "execution_count": null,
   "id": "14e27001",
   "metadata": {},
   "outputs": [],
   "source": []
  }
 ],
 "metadata": {
  "kernelspec": {
   "display_name": "base",
   "language": "python",
   "name": "python3"
  },
  "language_info": {
   "codemirror_mode": {
    "name": "ipython",
    "version": 3
   },
   "file_extension": ".py",
   "mimetype": "text/x-python",
   "name": "python",
   "nbconvert_exporter": "python",
   "pygments_lexer": "ipython3",
   "version": "3.13.5"
  }
 },
 "nbformat": 4,
 "nbformat_minor": 5
}
